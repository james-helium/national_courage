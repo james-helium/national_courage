{
 "cells": [
  {
   "cell_type": "code",
   "execution_count": 20,
   "metadata": {},
   "outputs": [],
   "source": [
    "# this is to create a dataset with country name and corresponding summaries of national level courage\n",
    "# we will get a age-gender weighted mean of national courage\n",
    "\n",
    "\n",
    "# initialise\n",
    "\n",
    "import pandas as pd\n",
    "\n",
    "# Read the data\n",
    "filtered_full_sample = pd.read_csv('data/filtered_full_sample.csv').drop('Unnamed: 0', axis=1)\n",
    "un_populations = pd.read_csv('data/un_populations.csv')"
   ]
  },
  {
   "cell_type": "code",
   "execution_count": 21,
   "metadata": {},
   "outputs": [],
   "source": [
    "# process UN reference data\n",
    "\n",
    "un_populations = un_populations[['Location','Time','AgeGrp','PopMale','PopFemale','PopTotal']]\n",
    "# only keep 2017-2021, when our study collected data\n",
    "un_populations = un_populations[un_populations.Time.between(2017, 2021)]\n",
    "# take the mean of 2017-2021\n",
    "un_populations = un_populations.groupby(['Location','AgeGrp']).mean().reset_index()\n",
    "\n",
    "# regourp the population into age groups 0-14, 15-19, 20-24, 25-49, 50-69, 70-99\n",
    "pop_00_14 = un_populations[un_populations.AgeGrp.isin(['0-4','5-9','10-14'])]\n",
    "pop_15_19 = un_populations[un_populations.AgeGrp.isin(['15-19'])]\n",
    "pop_20_24 = un_populations[un_populations.AgeGrp.isin(['20-24'])]\n",
    "pop_25_49 = un_populations[un_populations.AgeGrp.isin(['25-29','30-34','35-39','40-44','45-49'])]\n",
    "pop_50_69 = un_populations[un_populations.AgeGrp.isin(['50-54','55-59','60-64','65-69'])]\n",
    "pop_70_99 = un_populations[un_populations.AgeGrp.isin(['70-74','75-79','80-84','85-89','90-94','95-99'])]\n",
    "\n",
    "# sum up the population of 0-14, 15-19, 20-24, 25-49, 50-69, 70-99\n",
    "pop_00_14 = pop_00_14.groupby('Location').sum().reset_index()\n",
    "pop_00_14['AgeGrp'] = '0-14'\n",
    "pop_00_14 = pop_00_14[['Location','AgeGrp','PopMale','PopFemale','PopTotal']]\n",
    "pop_15_19 = pop_15_19[['Location','AgeGrp','PopMale','PopFemale','PopTotal']]\n",
    "pop_20_24 = pop_20_24[['Location','AgeGrp','PopMale','PopFemale','PopTotal']]\n",
    "pop_25_49 = pop_25_49.groupby('Location').sum().reset_index()\n",
    "pop_25_49['AgeGrp'] = '25-49'\n",
    "pop_25_49 = pop_25_49[['Location','AgeGrp','PopMale','PopFemale','PopTotal']]\n",
    "pop_50_69 = pop_50_69.groupby('Location').sum().reset_index()\n",
    "pop_50_69['AgeGrp'] = '50-69'\n",
    "pop_50_69 = pop_50_69[['Location','AgeGrp','PopMale','PopFemale','PopTotal']]\n",
    "pop_70_99 = pop_70_99.groupby('Location').sum().reset_index()\n",
    "pop_70_99['AgeGrp'] = '70-99'\n",
    "pop_70_99 = pop_70_99[['Location','AgeGrp','PopMale','PopFemale','PopTotal']]\n",
    "# put them back together\n",
    "un_populations = pd.concat([pop_00_14,pop_15_19,pop_20_24,pop_25_49,pop_50_69,pop_70_99])\n",
    "\n",
    "# get total population\n",
    "pop_total = un_populations.groupby('Location').sum().reset_index()[['Location', 'PopTotal']]\n",
    "# ratio of population in each age-sex group\n",
    "un_populations = un_populations.merge(pop_total, on='Location', how='left')\n",
    "un_populations.rename(columns={'PopTotal_x':'AgeTotal', 'PopTotal_y':'PopTotal'}, inplace=True)\n",
    "un_populations['PopMale'] = un_populations['PopMale']/un_populations['PopTotal']\n",
    "un_populations['PopFemale'] = un_populations['PopFemale']/un_populations['PopTotal']\n",
    "un_populations = un_populations[['Location','AgeGrp','PopMale','PopFemale']]"
   ]
  },
  {
   "cell_type": "code",
   "execution_count": 22,
   "metadata": {},
   "outputs": [],
   "source": [
    "# standardise country names\n",
    "un_populations.loc[un_populations['Location']=='China, Hong Kong SAR', 'Location'] = 'Hong Kong'\n",
    "un_populations.loc[un_populations['Location']=='China, Taiwan Province of China', 'Location'] = 'Taiwan'\n",
    "un_populations.loc[un_populations['Location']=='Iran (Islamic Republic of)', 'Location'] = 'Iran'\n",
    "un_populations.loc[un_populations['Location']=='Republic of Korea', 'Location'] = 'South Korea'\n",
    "un_populations.loc[un_populations['Location']=='Russian Federation', 'Location'] = 'Russia'\n",
    "un_populations.loc[un_populations['Location']=='Türkiye', 'Location'] = 'Turkey'\n",
    "un_populations.loc[un_populations['Location']=='United Kingdom of Great Britain and Northern Ireland', 'Location'] = 'United Kingdom'\n",
    "un_populations.loc[un_populations['Location']=='United States of America', 'Location'] = 'United States'\n",
    "un_populations.loc[un_populations['Location']=='Venezuela (Bolivarian Republic of)', 'Location'] = 'Venezuela'\n",
    "un_populations.loc[un_populations['Location']=='Viet Nam', 'Location'] = 'Vietnam'\n",
    "un_populations.set_index('Location', inplace=True)\n",
    "# only keep countries in our sample\n",
    "un_populations = un_populations.loc[filtered_full_sample['geo_country'].unique()]"
   ]
  },
  {
   "cell_type": "code",
   "execution_count": 23,
   "metadata": {},
   "outputs": [],
   "source": [
    "# get average courage score of each country, age-sex groups\n",
    "\n",
    "# first, we recode the demo_age to age groups\n",
    "filtered_full_sample['demo_age'] = pd.to_numeric(filtered_full_sample['demo_age'], errors='coerce')\n",
    "filtered_full_sample['demo_age'] = pd.cut(filtered_full_sample['demo_age'], bins=[0,14,19,24,49,69,99], labels=['0-14','15-19','20-24','25-49','50-69','70-99'])\n",
    "\n",
    "# summarise magic_COUR as mean, group by geo_country, demo_gender, demo_age\n",
    "courage_summary = filtered_full_sample.groupby(['geo_country', 'demo_gender', 'demo_age']).mean().reset_index()\n",
    "courage_summary = courage_summary[courage_summary.demo_gender=='female'].merge(\n",
    "    courage_summary[courage_summary.demo_gender=='male']\n",
    "    , on=['geo_country', 'demo_age'])\n",
    "courage_summary = courage_summary[['geo_country', 'demo_age', 'magic_COUR_x', 'magic_COUR_y']]\n",
    "courage_summary.columns = ['Location', 'AgeGrp', 'CourFemale', 'CourMale']\n",
    "\n",
    "# merge with population data\n",
    "courage_summary = courage_summary.merge(un_populations, on=['Location', 'AgeGrp'])\n",
    "\n",
    "\n",
    "# calculate weighted average courage score\n",
    "\n",
    "courage_summary.CourFemale = courage_summary.CourFemale * courage_summary.PopFemale\n",
    "courage_summary.CourMale = courage_summary.CourMale * courage_summary.PopMale\n",
    "courage_summary = courage_summary.groupby('Location').sum().reset_index()\n",
    "courage_summary['weighted_courage'] = courage_summary.CourFemale + courage_summary.CourMale"
   ]
  },
  {
   "cell_type": "code",
   "execution_count": 47,
   "metadata": {},
   "outputs": [],
   "source": [
    "# save to csv\n",
    "courage_summary = courage_summary[['Location', 'weighted_courage']]\n",
    "courage_summary.columns = ['Country', 'Weighted Average']\n",
    "courage_summary.to_csv('courage_summary.csv', index=False)"
   ]
  }
 ],
 "metadata": {
  "kernelspec": {
   "display_name": "base",
   "language": "python",
   "name": "python3"
  },
  "language_info": {
   "codemirror_mode": {
    "name": "ipython",
    "version": 3
   },
   "file_extension": ".py",
   "mimetype": "text/x-python",
   "name": "python",
   "nbconvert_exporter": "python",
   "pygments_lexer": "ipython3",
   "version": "3.9.13"
  },
  "orig_nbformat": 4
 },
 "nbformat": 4,
 "nbformat_minor": 2
}
